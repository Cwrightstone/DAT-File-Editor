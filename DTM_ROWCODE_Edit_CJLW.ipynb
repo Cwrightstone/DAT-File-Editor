{
 "cells": [
  {
   "cell_type": "code",
   "execution_count": null,
   "metadata": {},
   "outputs": [],
   "source": [
    "import pandas as pd\n",
    "import numpy as np\n",
    "import re\n",
    "import os"
   ]
  },
  {
   "cell_type": "code",
   "execution_count": null,
   "metadata": {},
   "outputs": [],
   "source": [
    "df = pd.read_excel('DTM MI Progress Chris Version_v2.xlsx')\n",
    "df.head()"
   ]
  },
  {
   "cell_type": "code",
   "execution_count": null,
   "metadata": {},
   "outputs": [],
   "source": [
    "# Rewrite the ROWCode, 1st Try\n",
    "conditions = [\n",
    "    (df['Milepost'] > 1) and (df['Milepost'] < 29),\n",
    "    (df['Milepost'] >= 434) and (df['Milepost'] < 474),\n",
    "    (df['Milepost'] >= 30) and (df['Milepost'] < 179),\n",
    "    (df['Milepost'] >= 1784) and (df['Milepost'] < 1823),\n",
    "    (df['Milepost'] >= 180) and (df['Milepost'] < 313),\n",
    "    (df['Milepost'] >= 314) and (df['Milepost'] < 350),\n",
    "    (df['Milepost'] >= 351) and (df['Milepost'] < 369),\n",
    "    (df['Milepost'] >= 370) and (df['Milepost'] < 433),\n",
    "]\n",
    "\n",
    "values = ['38', '389800', '61', '76', '78', '79', '84', '87', 'BC11', 'CP-11', 'CP131', 'CP-19', 'CP-20', 'CP-22', 'CP-38', 'CP-39', 'CP-40', 'CP-41', 'CP-42', 'CP-44', 'CP-49', 'CP-51', 'CP-60', 'CP-61', 'CP-63', 'CP-67', 'CP-69', 'CP-70', 'GAR36', 'GC001', 'O-H4', 'SB6', 'WH100', 'WH101', 'WH108', 'WH112', 'WH113', 'WH114', 'WH116', 'WH118', 'WH119', 'WH122', 'WH123', 'WH130', 'WH205', 'WH206', 'WH208', 'WH252', 'WH256', 'WH257', 'WH258', 'WH260', 'WH262', 'WH264', 'WH300', 'WH464', 'WH465', 'WH602', 'WH604', 'WH606', 'WH608', 'WH620', 'WH624', 'WH630']\n",
    "\n",
    "df['ROWCode'] = np.select(conditions, values)\n",
    "\n",
    "df.head()"
   ]
  }
 ],
 "metadata": {
  "kernelspec": {
   "display_name": "Python 3.9.7 ('appendix_maker')",
   "language": "python",
   "name": "python3"
  },
  "language_info": {
   "codemirror_mode": {
    "name": "ipython",
    "version": 3
   },
   "file_extension": ".py",
   "mimetype": "text/x-python",
   "name": "python",
   "nbconvert_exporter": "python",
   "pygments_lexer": "ipython3",
   "version": "3.9.7"
  },
  "orig_nbformat": 4,
  "vscode": {
   "interpreter": {
    "hash": "3ecdd23505e244b7b0b9a06952f73e718a5aa9d047049d2f1081b896e5c04bf9"
   }
  }
 },
 "nbformat": 4,
 "nbformat_minor": 2
}
