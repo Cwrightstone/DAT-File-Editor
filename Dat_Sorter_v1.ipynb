{
 "cells": [
  {
   "cell_type": "code",
   "execution_count": null,
   "metadata": {},
   "outputs": [],
   "source": [
    "import os\n",
    "print(os.getcwd())"
   ]
  },
  {
   "cell_type": "code",
   "execution_count": null,
   "metadata": {},
   "outputs": [],
   "source": [
    "# Look over the .Dat File\n",
    "\n",
    "df = open('2022 DTM MI Annual _Fixed copy.txt', 'rt')\n",
    "file = df.read()\n",
    "df.close()\n",
    "#print(file)\n"
   ]
  },
  {
   "cell_type": "code",
   "execution_count": null,
   "metadata": {},
   "outputs": [],
   "source": [
    "# Replace all the \" TS \"\n",
    "f = open('2022 DTM MI Annual _Fixed copy.txt','r')\n",
    "filedata = f.read()\n",
    "f.close()\n",
    "\n",
    "newdata = filedata.replace(\" TS \",\"\")\n",
    "\n",
    "f = open('2022 DTM MI Annual _Fixed.txt','w')\n",
    "f.write(newdata)\n",
    "f.close()"
   ]
  },
  {
   "cell_type": "code",
   "execution_count": null,
   "metadata": {},
   "outputs": [],
   "source": [
    "# Collect all the Milepost data\n",
    "mp = []                \n",
    "linenum = 0\n",
    "substr = \"Milepost\".lower()        \n",
    "with open ('2022 DTM MI Annual _Fixed copy.txt', 'rt') as myfile:\n",
    "    for line in myfile:\n",
    "        linenum += 1\n",
    "        if line.lower().find(substr) != -1:    \n",
    "            mp.append(\"Line \" + str(linenum) + \": \" + line.rstrip('\\n'))\n",
    "for num in mp:\n",
    "    \n",
    "    print(num)\n"
   ]
  },
  {
   "cell_type": "code",
   "execution_count": null,
   "metadata": {},
   "outputs": [],
   "source": [
    "# Use this to quick find the text you want \n",
    "import re\n",
    "df = mp\n",
    "r = re.compile(\".*Milepost\")\n",
    "dmp = list(filter(r.match, df))\n",
    "print(len(dmp))\n",
    "print(dmp)\n"
   ]
  }
 ],
 "metadata": {
  "kernelspec": {
   "display_name": "Python 3.9.7 ('appendix_maker')",
   "language": "python",
   "name": "python3"
  },
  "language_info": {
   "codemirror_mode": {
    "name": "ipython",
    "version": 3
   },
   "file_extension": ".py",
   "mimetype": "text/x-python",
   "name": "python",
   "nbconvert_exporter": "python",
   "pygments_lexer": "ipython3",
   "version": "3.9.7"
  },
  "orig_nbformat": 4,
  "vscode": {
   "interpreter": {
    "hash": "3ecdd23505e244b7b0b9a06952f73e718a5aa9d047049d2f1081b896e5c04bf9"
   }
  }
 },
 "nbformat": 4,
 "nbformat_minor": 2
}
