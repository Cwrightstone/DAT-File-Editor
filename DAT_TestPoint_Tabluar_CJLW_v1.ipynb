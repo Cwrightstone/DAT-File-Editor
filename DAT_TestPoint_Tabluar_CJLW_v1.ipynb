{
 "cells": [
  {
   "cell_type": "code",
   "execution_count": null,
   "metadata": {},
   "outputs": [],
   "source": [
    "\"\"\"\n",
    "Welcome to the DAT file to Tabluar v1!!!\n",
    "\n",
    "Steps! - More to come after more uses!\n",
    "1. Make sure you have the Importer File, it wont work unless you have it encoded to ASNI through Notepad ++\n",
    "2. Copy and paste any data other than test points to a different location, use the other DAT exporters for that data. \n",
    "3. Run the code and enjoy!!!\n",
    "\n",
    "\n",
    "\n",
    "Author-Chris Wrightstone\n",
    "\n",
    "\n",
    "\n",
    "\"\"\""
   ]
  },
  {
   "cell_type": "code",
   "execution_count": null,
   "metadata": {},
   "outputs": [],
   "source": [
    "import pandas as pd\n",
    "import re\n",
    "import os\n"
   ]
  },
  {
   "cell_type": "code",
   "execution_count": null,
   "metadata": {},
   "outputs": [],
   "source": [
    "# Check the contents of your DAT file below. \n",
    "data = open('Inputfile', 'rt')\n",
    "file = data.read()\n",
    "data.close()\n",
    "#print(file)\n",
    "\n",
    "\n"
   ]
  },
  {
   "cell_type": "code",
   "execution_count": null,
   "metadata": {},
   "outputs": [],
   "source": [
    "# Empty list for all the data to be entered into the headers\n",
    "ROWCode = []\n",
    "Milepost = []\n",
    "LocationDescription = []\n",
    "PermanentComments = []\n",
    "# InspectionDate = [], its in the pattern TBD\n",
    "ACP = []\n",
    "On = []\n",
    "Off = []\n",
    "InspectionRemarks = []\n",
    "Technician = []\n",
    "InspectionLatitude = []\n",
    "InspectionLongitude = []\n",
    "Latitude = []\n",
    "Longitude = []\n",
    "Name = []"
   ]
  },
  {
   "cell_type": "code",
   "execution_count": null,
   "metadata": {},
   "outputs": [],
   "source": [
    "# Start finding the data you wish to extract to your tabluar and add them to their respected empty list\n",
    "\n",
    "#RC = re.findall(\"\") = Why is the DEMO poping as b7755de8-7ce4-4765-851f-6c534087ce83? Is this the code for the import?\n",
    "\n",
    "MP = re.findall(\"Milepost�(.*)��C\", file)\n",
    "for m in MP:\n",
    "    Milepost.append(MP)\n",
    "#print(Milepost)\n",
    "\n",
    "LD = re.findall(\"Location Description�(.*)��C\", file)\n",
    "for l in LD:\n",
    "    LocationDescription.append(LD)\n",
    "#print(LD)\n",
    "\n",
    "#PC = re.findall(\"Permanent Comments�(.*)��C\", file)\n",
    "#for p in PC:\n",
    "    #PermanentComments.append(PC)\n",
    "#print(PC)\n",
    "\n",
    "IR = re.findall(\"Inspection Remarks�(.*)��C\", file)\n",
    "for i in IR:\n",
    "    InspectionRemarks.append(IR)\n",
    "#print(IR)\n",
    "\n",
    "AC = re.findall(\"AC�(.*)��A2\", file)\n",
    "for a in AC:\n",
    "    ACP.append(AC)\n",
    "#print(AC)\n",
    "\n",
    "ON = re.findall(\"\\nOn�(.*)��V2\", file)\n",
    "for o in ON:\n",
    "    On.append(ON)\n",
    "#print(ON)\n",
    "\n",
    "OFF = re.findall(\"Off�(.*)��V2\", file)\n",
    "for f in OFF:\n",
    "    Off.append(OFF)\n",
    "#print(OFF)\n",
    "\n",
    "T = re.findall(\"\\nTechnician�(.*)��C\", file)\n",
    "for t in T:\n",
    "    Technician.append(T)\n",
    "#print(T)\n",
    "\n",
    "IL = re.findall(\"\\nInspection Latitude�(.*)��GLAT\", file)\n",
    "for il in IL:\n",
    "    InspectionLatitude.append(IL)\n",
    "#print(IL)\n",
    "\n",
    "ILon = re.findall(\"\\nInspection Longitude�(.*)��GLONG\", file)\n",
    "for ilon in ILon:\n",
    "    InspectionLongitude.append(ILon)\n",
    "#print(ILon)\n",
    "\n",
    "Lat = re.findall(\"\\nLatitude�(.*)��GLAT��2V�0�T\", file)\n",
    "for lat in Lat:\n",
    "    Latitude.append(Lat)\n",
    "#print(Lat)\n",
    "\n",
    "Lon = re.findall(\"\\nLongitude�(.*)��GLONG��2V�0�T\", file)\n",
    "for lon in Lon:\n",
    "    Longitude.append(Lon)\n",
    "#print(Lon)\n",
    "\n",
    "Nam = re.findall(\"\\nName�(.*)��C\", file)\n",
    "for ne in Nam:\n",
    "    Name.append(Nam)\n",
    "print(Nam)"
   ]
  },
  {
   "cell_type": "code",
   "execution_count": null,
   "metadata": {},
   "outputs": [],
   "source": [
    "# Make the Tabular Column headers and the Excel you will be adding the data too\n",
    "df = pd.DataFrame(columns= [\"ROWCode\",\"Name\", \"Milepost\", \"LocationDescription\", \"AC\", \"On\", \"Off\", \"InspectionRemarks\", \"Technician\", \"InspectionLatitude\", \"InspectionLongitude\"])\n",
    "df.head()"
   ]
  },
  {
   "cell_type": "code",
   "execution_count": null,
   "metadata": {},
   "outputs": [],
   "source": [
    "# Add the data collected from the pattern search into the DataFrame\n",
    "mp = pd.Series(MP)\n",
    "df[\"Milepost\"] = mp\n",
    "\n",
    "ld = pd.Series(LD)\n",
    "df[\"LocationDescription\"] = ld\n",
    "\n",
    "ir = pd.Series(IR)\n",
    "df[\"InspectionRemarks\"] = ir\n",
    "\n",
    "ac = pd.Series(AC)\n",
    "df[\"AC\"] = ac\n",
    "\n",
    "on = pd.Series(ON)\n",
    "df[\"On\"] = on\n",
    "\n",
    "off = pd.Series(OFF)\n",
    "df[\"Off\"] = off\n",
    "\n",
    "tech = pd.Series(T)\n",
    "df[\"Technician\"] = tech\n",
    "\n",
    "lt = pd.Series(IL)\n",
    "df[\"InspectionLatitude\"] = lt\n",
    "\n",
    "ln = pd.Series(ILon)\n",
    "df[\"InspectionLongitude\"] = ln\n",
    "\n",
    "nm = pd.Series(Nam)\n",
    "df[\"Name\"] = nm\n",
    "\n",
    "#latt = pd.Series(Lat)\n",
    "#df[\"Latitude\"] = latt\n",
    "\n",
    "#long = pd.Series(Lon)\n",
    "#df[\"Longitude\"] = long\n",
    "\n",
    "\n",
    "\n",
    "\n",
    "\n",
    "\n",
    "\n",
    "\n",
    "\n",
    "\n",
    "\n",
    "df.head(330)\n"
   ]
  },
  {
   "cell_type": "code",
   "execution_count": null,
   "metadata": {},
   "outputs": [],
   "source": [
    "# Put your df in a csv. \n",
    "\n",
    "df.to_excel('OutFileName.xlsx')\n",
    "\n"
   ]
  },
  {
   "cell_type": "code",
   "execution_count": null,
   "metadata": {},
   "outputs": [],
   "source": [
    "# Section for any quick edits via pandas"
   ]
  }
 ],
 "metadata": {
  "kernelspec": {
   "display_name": "Python 3.9.7 ('appendix_maker')",
   "language": "python",
   "name": "python3"
  },
  "language_info": {
   "codemirror_mode": {
    "name": "ipython",
    "version": 3
   },
   "file_extension": ".py",
   "mimetype": "text/x-python",
   "name": "python",
   "nbconvert_exporter": "python",
   "pygments_lexer": "ipython3",
   "version": "3.9.7"
  },
  "orig_nbformat": 4,
  "vscode": {
   "interpreter": {
    "hash": "3ecdd23505e244b7b0b9a06952f73e718a5aa9d047049d2f1081b896e5c04bf9"
   }
  }
 },
 "nbformat": 4,
 "nbformat_minor": 2
}
